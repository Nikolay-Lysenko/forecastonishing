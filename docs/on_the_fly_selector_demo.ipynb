{
 "cells": [
  {
   "cell_type": "markdown",
   "metadata": {},
   "source": [
    "# Introduction"
   ]
  },
  {
   "cell_type": "markdown",
   "metadata": {},
   "source": [
    "### Purposes"
   ]
  },
  {
   "cell_type": "markdown",
   "metadata": {},
   "source": [
    "This tutorial:\n",
    "* provides a theoretical description of adaptive selection;\n",
    "* demonstrates how to use `OnTheFlySelector` for a problem of forecasting large amount of time series."
   ]
  },
  {
   "cell_type": "markdown",
   "metadata": {},
   "source": [
    "### Background"
   ]
  },
  {
   "cell_type": "markdown",
   "metadata": {},
   "source": [
    "In order to avoid copying and pasting sentences from docstrings, let us extract and format all necessary information. This is done with a class that hides too specialized code under easy-to-read names."
   ]
  },
  {
   "cell_type": "code",
   "execution_count": 1,
   "metadata": {
    "collapsed": true
   },
   "outputs": [],
   "source": [
    "from utils_for_demo_of_on_the_fly_selector import Helper"
   ]
  },
  {
   "cell_type": "code",
   "execution_count": 2,
   "metadata": {},
   "outputs": [
    {
     "name": "stdout",
     "output_type": "stream",
     "text": [
      "    Time series forecasting has a property that all observations are\n",
      "    ordered. Depending on position, behavior of series can vary and so\n",
      "    one method can yield better results at some moments while\n",
      "    another method can outperform it at some other moments. This is\n",
      "    the reason why adaptive selection is useful for many series.\n"
     ]
    }
   ],
   "source": [
    "Helper().why_adaptive_selection()"
   ]
  },
  {
   "cell_type": "markdown",
   "metadata": {},
   "source": [
    "To continue, read what `OnTheFlySelector` class is."
   ]
  },
  {
   "cell_type": "code",
   "execution_count": 3,
   "metadata": {
    "scrolled": false
   },
   "outputs": [
    {
     "name": "stdout",
     "output_type": "stream",
     "text": [
      "\n",
      "    This class provides functionality for adaptive short-term\n",
      "    forecasting based on selection from a pool of models.\n",
      "\n",
      "    The class is designed for a case of many time series and many\n",
      "    simple forecasters - if so, it is too expensive to store all\n",
      "    forecasts in any place other than operating memory and it\n",
      "    is better to compute them on-the-fly and then store only selected\n",
      "    values.\n",
      "\n",
      "    What about terminology, simple forecaster means a forecaster that\n",
      "    has no fitting. By default, the class uses moving average,\n",
      "    moving median, and exponential moving average, but you can pass\n",
      "    your own simple forecaster to initialization of a new instance.\n",
      "\n",
      "    Selection is preferred over stacking, because base forecasters are\n",
      "    quite similar to each other and so they have many common mistakes.\n",
      "\n",
      "    Advantages of adaptive on-the-fly selection are as follows:\n",
      "    * It always produces sane results, abnormal over-forecasts or\n",
      "      under-forecasts are impossible;\n",
      "    * Each time series is tailored individually, this is not a model\n",
      "      that predicts for several time series without taking into\n",
      "      consideration their identities;\n",
      "    * Uses no external features and so can be used for modelling of\n",
      "      residuals of a more complicated model;\n",
      "    * Can be easily paralleled or distributed, can deal with thousands\n",
      "      of time series in one call.\n",
      "\n",
      "    Limitations of adaptive on-the-fly selection are as follows:\n",
      "    * Not suitable for time series that are strongly influenced by\n",
      "      external factors;\n",
      "    * Not suitable for non-stationary time series (e.g., time series\n",
      "      with trend or seasonality) until they are not made stationary;\n",
      "    * Long-term forecasts made with it converge to constants.\n",
      "\n",
      "    \n"
     ]
    }
   ],
   "source": [
    "Helper().what_is_on_the_fly_selector()"
   ]
  },
  {
   "cell_type": "markdown",
   "metadata": {},
   "source": [
    "# Application"
   ]
  },
  {
   "cell_type": "markdown",
   "metadata": {},
   "source": [
    "### Import Statements"
   ]
  },
  {
   "cell_type": "code",
   "execution_count": 4,
   "metadata": {
    "collapsed": true
   },
   "outputs": [],
   "source": [
    "import os\n",
    "import datetime\n",
    "from typing import List\n",
    "\n",
    "import pandas as pd\n",
    "from sklearn.metrics import r2_score\n",
    "\n",
    "from forecastonishing.selection.on_the_fly_selector import OnTheFlySelector\n",
    "from forecastonishing.selection.paralleling import (\n",
    "    fit_selector_in_parallel,\n",
    "    predict_with_selector_in_parallel\n",
    ")"
   ]
  },
  {
   "cell_type": "markdown",
   "metadata": {},
   "source": [
    "### Preparations"
   ]
  },
  {
   "cell_type": "markdown",
   "metadata": {},
   "source": [
    "The dataset that is used here is a set of synthetic time series that are drawn from a generative model trained on many real-world time series, so the problem under consideration is quite realistic.\n",
    "\n",
    "First of all, download the dataset if it has not been downloaded before."
   ]
  },
  {
   "cell_type": "code",
   "execution_count": 5,
   "metadata": {},
   "outputs": [
    {
     "data": {
      "text/html": [
       "<div>\n",
       "<style>\n",
       "    .dataframe thead tr:only-child th {\n",
       "        text-align: right;\n",
       "    }\n",
       "\n",
       "    .dataframe thead th {\n",
       "        text-align: left;\n",
       "    }\n",
       "\n",
       "    .dataframe tbody tr th {\n",
       "        vertical-align: top;\n",
       "    }\n",
       "</style>\n",
       "<table border=\"1\" class=\"dataframe\">\n",
       "  <thead>\n",
       "    <tr style=\"text-align: right;\">\n",
       "      <th></th>\n",
       "      <th>unit</th>\n",
       "      <th>item</th>\n",
       "      <th>date</th>\n",
       "      <th>value</th>\n",
       "    </tr>\n",
       "  </thead>\n",
       "  <tbody>\n",
       "    <tr>\n",
       "      <th>0</th>\n",
       "      <td>1</td>\n",
       "      <td>1</td>\n",
       "      <td>2017-11-01</td>\n",
       "      <td>7.0</td>\n",
       "    </tr>\n",
       "    <tr>\n",
       "      <th>1</th>\n",
       "      <td>1</td>\n",
       "      <td>1</td>\n",
       "      <td>2017-11-02</td>\n",
       "      <td>12.0</td>\n",
       "    </tr>\n",
       "    <tr>\n",
       "      <th>2</th>\n",
       "      <td>1</td>\n",
       "      <td>1</td>\n",
       "      <td>2017-11-03</td>\n",
       "      <td>8.0</td>\n",
       "    </tr>\n",
       "    <tr>\n",
       "      <th>3</th>\n",
       "      <td>1</td>\n",
       "      <td>1</td>\n",
       "      <td>2017-11-04</td>\n",
       "      <td>14.0</td>\n",
       "    </tr>\n",
       "    <tr>\n",
       "      <th>4</th>\n",
       "      <td>1</td>\n",
       "      <td>1</td>\n",
       "      <td>2017-11-05</td>\n",
       "      <td>6.0</td>\n",
       "    </tr>\n",
       "  </tbody>\n",
       "</table>\n",
       "</div>"
      ],
      "text/plain": [
       "   unit  item       date  value\n",
       "0     1     1 2017-11-01    7.0\n",
       "1     1     1 2017-11-02   12.0\n",
       "2     1     1 2017-11-03    8.0\n",
       "3     1     1 2017-11-04   14.0\n",
       "4     1     1 2017-11-05    6.0"
      ]
     },
     "execution_count": 5,
     "metadata": {},
     "output_type": "execute_result"
    }
   ],
   "source": [
    "path_to_dataset = 'time_series_dataset.csv'\n",
    "if os.path.isfile(path_to_dataset):\n",
    "    df = pd.read_csv(path_to_dataset, parse_dates=[2])\n",
    "else:\n",
    "    df = pd.read_csv(\n",
    "        \"https://docs.google.com/spreadsheets/\" +\n",
    "        \"d/1TF0bAf9wOpIXIvIsazMCLEoHQ1y6dTkYYdYRRleC5lM/export?format=csv\",\n",
    "        parse_dates=[2]\n",
    "    )\n",
    "    df.to_csv(path_to_dataset, index=False)\n",
    "df.head()"
   ]
  },
  {
   "cell_type": "markdown",
   "metadata": {},
   "source": [
    "How many time series are there?"
   ]
  },
  {
   "cell_type": "code",
   "execution_count": 6,
   "metadata": {},
   "outputs": [
    {
     "data": {
      "text/plain": [
       "7949"
      ]
     },
     "execution_count": 6,
     "metadata": {},
     "output_type": "execute_result"
    }
   ],
   "source": [
    "len(df.groupby(['unit', 'item']))"
   ]
  },
  {
   "cell_type": "markdown",
   "metadata": {},
   "source": [
    "Each time series includes two months of observations."
   ]
  },
  {
   "cell_type": "markdown",
   "metadata": {},
   "source": [
    "Now let us define some metrics. An interesting combination is to use both $R^2$ coefficient computed in a batch for all time series and $R^2$ coefficient computed for each time series separately and then averaged over all of them. The former metric reports how levels of different time series are grasped, whereas the latter one reports how well individual dynamics and deviations from a corresponding mean are predicted."
   ]
  },
  {
   "cell_type": "code",
   "execution_count": 7,
   "metadata": {
    "collapsed": true
   },
   "outputs": [],
   "source": [
    "def batch_r_squared(df: pd.DataFrame) -> float:\n",
    "    \"\"\"\n",
    "    Compute coefficient of determination ignoring keys of time series.\n",
    "    \n",
    "    :param df:\n",
    "        DataFrame with columns 'actual_value' and 'prediction'\n",
    "    :return:\n",
    "        R^2 coefficient of determination\n",
    "    \"\"\"\n",
    "    return r2_score(df['actual_value'], df['prediction'])\n",
    "\n",
    "\n",
    "def averaged_r_squared(df: pd.DataFrame, series_keys: List[str]) -> float:\n",
    "    \"\"\"\n",
    "    Compute coefficient of determination for each of time series\n",
    "    and then average results.\n",
    "    \n",
    "    :param df:\n",
    "        DataFrame with columns 'actual_value', 'prediction', and all\n",
    "        columns from `series_keys`\n",
    "    :param series_keys:\n",
    "        identifiers of individual time series\n",
    "    :return:\n",
    "        R^2 coefficient of determination\n",
    "    \"\"\"\n",
    "    return df.groupby(series_keys).apply(batch_r_squared).mean()"
   ]
  },
  {
   "cell_type": "markdown",
   "metadata": {},
   "source": [
    "To see why this two metric differ, look at the below example."
   ]
  },
  {
   "cell_type": "code",
   "execution_count": 8,
   "metadata": {},
   "outputs": [
    {
     "data": {
      "text/plain": [
       "(0.91061452513966479, -1.5)"
      ]
     },
     "execution_count": 8,
     "metadata": {},
     "output_type": "execute_result"
    }
   ],
   "source": [
    "example_df = pd.DataFrame(\n",
    "    [[1, 2, 3],\n",
    "     [1, 4, 5],\n",
    "     [2, 10, 9],\n",
    "     [2, 9, 10]],\n",
    "    columns=['key', 'actual_value', 'prediction']\n",
    ")\n",
    "batch_r_squared(example_df), averaged_r_squared(example_df, ['key'])"
   ]
  },
  {
   "cell_type": "markdown",
   "metadata": {},
   "source": [
    "The first metric is high, because two series from `df` have different levels and predictions are near the corresponding levels which means that variation across levels is reflected in predictions. The second metric is negative, because variation around individual means is not reflected at all."
   ]
  },
  {
   "cell_type": "markdown",
   "metadata": {},
   "source": [
    "### The Launch Itself"
   ]
  },
  {
   "cell_type": "code",
   "execution_count": 9,
   "metadata": {
    "collapsed": true
   },
   "outputs": [],
   "source": [
    "horizon = 3\n",
    "train_test_frontier = df['date'].max() - datetime.timedelta(days=horizon-1)\n",
    "train_df = df[df['date'] < train_test_frontier]\n",
    "test_df = df[df['date'] >= train_test_frontier]"
   ]
  },
  {
   "cell_type": "code",
   "execution_count": 10,
   "metadata": {
    "collapsed": true
   },
   "outputs": [],
   "source": [
    "selector = OnTheFlySelector(\n",
    "    horizon=horizon,\n",
    "    n_evaluational_rounds=10,\n",
    "    verbose=1\n",
    ")"
   ]
  },
  {
   "cell_type": "code",
   "execution_count": 11,
   "metadata": {},
   "outputs": [
    {
     "name": "stderr",
     "output_type": "stream",
     "text": [
      "100%|██████████| 28/28 [21:58<00:00, 48.57s/it]\n",
      "100%|██████████| 28/28 [21:58<00:00, 48.14s/it]\n",
      "100%|██████████| 28/28 [22:00<00:00, 48.51s/it]\n",
      "100%|██████████| 28/28 [22:00<00:00, 47.89s/it]\n"
     ]
    },
    {
     "name": "stdout",
     "output_type": "stream",
     "text": [
      "CPU times: user 672 ms, sys: 260 ms, total: 932 ms\n",
      "Wall time: 22min 1s\n"
     ]
    }
   ],
   "source": [
    "%%time\n",
    "selector = fit_selector_in_parallel(\n",
    "    selector,\n",
    "    train_df,\n",
    "    name_of_target='value',\n",
    "    series_keys=['unit', 'item'],\n",
    "    n_processes=4\n",
    ")"
   ]
  },
  {
   "cell_type": "code",
   "execution_count": 12,
   "metadata": {},
   "outputs": [
    {
     "name": "stdout",
     "output_type": "stream",
     "text": [
      "CPU times: user 404 ms, sys: 100 ms, total: 504 ms\n",
      "Wall time: 1min 47s\n"
     ]
    }
   ],
   "source": [
    "%%time\n",
    "predictions_df = predict_with_selector_in_parallel(\n",
    "    selector,\n",
    "    train_df,\n",
    "    n_processes=4\n",
    ")"
   ]
  },
  {
   "cell_type": "code",
   "execution_count": 13,
   "metadata": {},
   "outputs": [],
   "source": [
    "# Sorting is necessary after parallel execution.\n",
    "evaluation_df = predictions_df.reset_index().sort_values(by=['unit', 'item', 'index'])\n",
    "evaluation_df['actual_value'] = test_df.sort_values(by=['unit', 'item', 'date'])['value'].values"
   ]
  },
  {
   "cell_type": "code",
   "execution_count": 14,
   "metadata": {},
   "outputs": [
    {
     "data": {
      "text/plain": [
       "0.90524827491432336"
      ]
     },
     "execution_count": 14,
     "metadata": {},
     "output_type": "execute_result"
    }
   ],
   "source": [
    "batch_r_squared(evaluation_df)"
   ]
  },
  {
   "cell_type": "code",
   "execution_count": 15,
   "metadata": {},
   "outputs": [
    {
     "data": {
      "text/plain": [
       "-7.0785745955648123"
      ]
     },
     "execution_count": 15,
     "metadata": {},
     "output_type": "execute_result"
    }
   ],
   "source": [
    "averaged_r_squared(evaluation_df, ['unit', 'item'])"
   ]
  },
  {
   "cell_type": "markdown",
   "metadata": {},
   "source": [
    "# Conclusion"
   ]
  },
  {
   "cell_type": "markdown",
   "metadata": {},
   "source": [
    "As it can be seen, simple forecasters can not predict future dynamic of the time series under consideration, especially multiple steps ahead. However, cross-sectional variance is grasped almost perfectly."
   ]
  },
  {
   "cell_type": "markdown",
   "metadata": {},
   "source": [
    "If you need more examples of how to use `OnTheFlySelector` class, please look at `tests/on_the_fly_selector_tests.py` file."
   ]
  }
 ],
 "metadata": {
  "kernelspec": {
   "display_name": "forecastonishing_env",
   "language": "python",
   "name": "forecastonishing_env"
  },
  "language_info": {
   "codemirror_mode": {
    "name": "ipython",
    "version": 3
   },
   "file_extension": ".py",
   "mimetype": "text/x-python",
   "name": "python",
   "nbconvert_exporter": "python",
   "pygments_lexer": "ipython3",
   "version": "3.6.2"
  }
 },
 "nbformat": 4,
 "nbformat_minor": 2
}
