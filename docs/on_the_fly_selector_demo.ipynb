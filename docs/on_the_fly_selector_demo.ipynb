{
 "cells": [
  {
   "cell_type": "markdown",
   "metadata": {},
   "source": [
    "# Introduction"
   ]
  },
  {
   "cell_type": "markdown",
   "metadata": {},
   "source": [
    "### Purposes"
   ]
  },
  {
   "cell_type": "markdown",
   "metadata": {},
   "source": [
    "This tutorial:\n",
    "* provides a theoretical description of adaptive selection;\n",
    "* demonstrates how to use `OnTheFlySelector` for a problem of forecasting large amount of time series."
   ]
  },
  {
   "cell_type": "markdown",
   "metadata": {},
   "source": [
    "### Background"
   ]
  },
  {
   "cell_type": "markdown",
   "metadata": {},
   "source": [
    "In order to avoid copying and pasting sentences from docstrings, let us extract and format all necessary texts. To start with, look at brief notes on idea that is behind adaptive selection of forecasting method."
   ]
  },
  {
   "cell_type": "code",
   "execution_count": 1,
   "metadata": {
    "collapsed": true
   },
   "outputs": [],
   "source": [
    "from forecastonishing.selection import on_the_fly_selector"
   ]
  },
  {
   "cell_type": "code",
   "execution_count": 2,
   "metadata": {},
   "outputs": [
    {
     "name": "stdout",
     "output_type": "stream",
     "text": [
      "    Time series forecasting has a property that all observations are\n",
      "    ordered. Depending on position, behavior of series can vary and so\n",
      "    one method can yield better results at some moments while\n",
      "    another method can outperform it at some other moments. This is\n",
      "    the reason why adaptive selection is useful for many series.\n"
     ]
    }
   ],
   "source": [
    "print('    ' + '\\n    '.join(on_the_fly_selector.__doc__.split('\\n\\n')[1].split('\\n')))"
   ]
  },
  {
   "cell_type": "markdown",
   "metadata": {},
   "source": [
    "To continue, read what `OnTheFlySelector` class is."
   ]
  },
  {
   "cell_type": "code",
   "execution_count": 3,
   "metadata": {
    "scrolled": false
   },
   "outputs": [
    {
     "name": "stdout",
     "output_type": "stream",
     "text": [
      "\n",
      "    This class provides functionality for adaptive short-term\n",
      "    forecasting based on selection from a pool of models.\n",
      "\n",
      "    The class is designed for a case of many time series and many\n",
      "    simple forecasters - if so, it is too expensive to store all\n",
      "    forecasts in any place other than operating memory and it\n",
      "    is better to compute them on-the-fly and then store only selected\n",
      "    values.\n",
      "\n",
      "    What about terminology, simple forecaster means a forecaster that\n",
      "    has no fitting. By default, the class uses moving average,\n",
      "    moving median, and exponential moving average, but you can pass\n",
      "    your own simple forecaster to initialization of a new instance.\n",
      "\n",
      "    Selection is preferred over stacking, because base forecasters are\n",
      "    quite similar to each other and so they have many common mistakes.\n",
      "\n",
      "    Advantages of adaptive on-the-fly selection are as follows:\n",
      "    * It always produces sane results, abnormal over-forecasts or\n",
      "      under-forecasts are impossible;\n",
      "    * Each time series is tailored individually, this is not a model\n",
      "      that predicts for several time series without taking into\n",
      "      consideration their identities;\n",
      "    * Uses no external features and so can be used for modelling of\n",
      "      residuals of a more complicated model;\n",
      "    * Can be easily paralleled or distributed, can deal with thousands\n",
      "      of time series in one call.\n",
      "\n",
      "    Limitations of adaptive on-the-fly selection are as follows:\n",
      "    * Not suitable for time series that are strongly influenced by\n",
      "      external factors;\n",
      "    * Not suitable for non-stationary time series (e.g., time series\n",
      "      with trend or seasonality) until they are not made stationary;\n",
      "    * Long-term forecasts made with it converge to constants.\n",
      "\n",
      "    \n"
     ]
    }
   ],
   "source": [
    "print(on_the_fly_selector.OnTheFlySelector.__doc__.split(':param')[0])"
   ]
  },
  {
   "cell_type": "markdown",
   "metadata": {},
   "source": [
    "# Coming Soon"
   ]
  },
  {
   "cell_type": "markdown",
   "metadata": {},
   "source": [
    "If you need examples of how to use `OnTheFlySelector` class and you can not wait until this tutorial is finished, please look at `tests/on_the_fly_selector_tests.py` file."
   ]
  }
 ],
 "metadata": {
  "kernelspec": {
   "display_name": "forecastonishing_env",
   "language": "python",
   "name": "forecastonishing_env"
  },
  "language_info": {
   "codemirror_mode": {
    "name": "ipython",
    "version": 3
   },
   "file_extension": ".py",
   "mimetype": "text/x-python",
   "name": "python",
   "nbconvert_exporter": "python",
   "pygments_lexer": "ipython3",
   "version": "3.6.2"
  }
 },
 "nbformat": 4,
 "nbformat_minor": 2
}
