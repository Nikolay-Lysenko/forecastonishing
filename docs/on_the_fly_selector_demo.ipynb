{
 "cells": [
  {
   "cell_type": "markdown",
   "metadata": {},
   "source": [
    "# Coming Soon"
   ]
  },
  {
   "cell_type": "markdown",
   "metadata": {},
   "source": [
    "If you need an examples of how to use `OnTheFlySelector` class and you can not wait until this tutorial is released, please look at `tests/on_the_fly_selector_tests.py` file."
   ]
  }
 ],
 "metadata": {
  "kernelspec": {
   "display_name": "forecastonishing_env",
   "language": "python",
   "name": "forecastonishing_env"
  },
  "language_info": {
   "codemirror_mode": {
    "name": "ipython",
    "version": 3
   },
   "file_extension": ".py",
   "mimetype": "text/x-python",
   "name": "python",
   "nbconvert_exporter": "python",
   "pygments_lexer": "ipython3",
   "version": "3.6.2"
  }
 },
 "nbformat": 4,
 "nbformat_minor": 2
}
