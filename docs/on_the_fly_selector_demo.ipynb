{
 "cells": [
  {
   "cell_type": "markdown",
   "metadata": {},
   "source": [
    "# Introduction"
   ]
  },
  {
   "cell_type": "markdown",
   "metadata": {},
   "source": [
    "### Purposes"
   ]
  },
  {
   "cell_type": "markdown",
   "metadata": {},
   "source": [
    "This tutorial:\n",
    "* provides a theoretical description of adaptive selection;\n",
    "* demonstrates how to use `OnTheFlySelector` for a problem of forecasting large amount of time series."
   ]
  },
  {
   "cell_type": "markdown",
   "metadata": {},
   "source": [
    "### Background"
   ]
  },
  {
   "cell_type": "markdown",
   "metadata": {},
   "source": [
    "In order to avoid copying and pasting sentences from docstrings, let us extract and format all necessary information. This is done with a class that hides too specialized code under easy-to-read names."
   ]
  },
  {
   "cell_type": "code",
   "execution_count": 6,
   "metadata": {
    "collapsed": true
   },
   "outputs": [],
   "source": [
    "from utils_for_demo_of_on_the_fly_selector import Helper"
   ]
  },
  {
   "cell_type": "code",
   "execution_count": 7,
   "metadata": {},
   "outputs": [
    {
     "name": "stdout",
     "output_type": "stream",
     "text": [
      "    Time series forecasting has a property that all observations are\n",
      "    ordered. Depending on position, behavior of series can vary and so\n",
      "    one method can yield better results at some moments while\n",
      "    another method can outperform it at some other moments. This is\n",
      "    the reason why adaptive selection is useful for many series.\n"
     ]
    }
   ],
   "source": [
    "Helper().why_adaptive_selection()"
   ]
  },
  {
   "cell_type": "markdown",
   "metadata": {},
   "source": [
    "To continue, read what `OnTheFlySelector` class is."
   ]
  },
  {
   "cell_type": "code",
   "execution_count": 8,
   "metadata": {
    "scrolled": false
   },
   "outputs": [
    {
     "name": "stdout",
     "output_type": "stream",
     "text": [
      "\n",
      "    This class provides functionality for adaptive short-term\n",
      "    forecasting based on selection from a pool of models.\n",
      "\n",
      "    The class is designed for a case of many time series and many\n",
      "    simple forecasters - if so, it is too expensive to store all\n",
      "    forecasts in any place other than operating memory and it\n",
      "    is better to compute them on-the-fly and then store only selected\n",
      "    values.\n",
      "\n",
      "    What about terminology, simple forecaster means a forecaster that\n",
      "    has no fitting. By default, the class uses moving average,\n",
      "    moving median, and exponential moving average, but you can pass\n",
      "    your own simple forecaster to initialization of a new instance.\n",
      "\n",
      "    Selection is preferred over stacking, because base forecasters are\n",
      "    quite similar to each other and so they have many common mistakes.\n",
      "\n",
      "    Advantages of adaptive on-the-fly selection are as follows:\n",
      "    * It always produces sane results, abnormal over-forecasts or\n",
      "      under-forecasts are impossible;\n",
      "    * Each time series is tailored individually, this is not a model\n",
      "      that predicts for several time series without taking into\n",
      "      consideration their identities;\n",
      "    * Uses no external features and so can be used for modelling of\n",
      "      residuals of a more complicated model;\n",
      "    * Can be easily paralleled or distributed, can deal with thousands\n",
      "      of time series in one call.\n",
      "\n",
      "    Limitations of adaptive on-the-fly selection are as follows:\n",
      "    * Not suitable for time series that are strongly influenced by\n",
      "      external factors;\n",
      "    * Not suitable for non-stationary time series (e.g., time series\n",
      "      with trend or seasonality) until they are not made stationary;\n",
      "    * Long-term forecasts made with it converge to constants.\n",
      "\n",
      "    \n"
     ]
    }
   ],
   "source": [
    "Helper().what_is_on_the_fly_selector()"
   ]
  },
  {
   "cell_type": "markdown",
   "metadata": {},
   "source": [
    "# Application"
   ]
  },
  {
   "cell_type": "markdown",
   "metadata": {},
   "source": [
    "### Import Statements"
   ]
  },
  {
   "cell_type": "code",
   "execution_count": 9,
   "metadata": {
    "collapsed": true
   },
   "outputs": [],
   "source": [
    "import datetime\n",
    "from typing import List\n",
    "\n",
    "import pandas as pd\n",
    "from sklearn.metrics import r2_score\n",
    "\n",
    "from forecastonishing.selection.on_the_fly_selector import OnTheFlySelector\n",
    "from forecastonishing.selection.paralleling import fit_selector_in_parallel"
   ]
  },
  {
   "cell_type": "markdown",
   "metadata": {},
   "source": [
    "### Preparations"
   ]
  },
  {
   "cell_type": "markdown",
   "metadata": {},
   "source": [
    "The dataset that is used here is a set of synthetic time series that are drawn from a generative model trained on many real-world time series, so the problem under consideration is quite realistic.\n",
    "\n",
    "First of all, download the dataset if it has not been downloaded before."
   ]
  },
  {
   "cell_type": "code",
   "execution_count": null,
   "metadata": {
    "collapsed": true
   },
   "outputs": [],
   "source": [
    "dataset = pd.read_csv()"
   ]
  },
  {
   "cell_type": "markdown",
   "metadata": {},
   "source": [
    "Now let us define some metrics. An interesting combination is to use both $R^2$ coefficient computed in a batch for all time series and $R^2$ coefficient computed for each time series separately and then averaged over all of them. The former metric reports how levels of different time series are grasped, whereas the latter one reports how well individual dynamics and deviations from a corresponding mean are predicted."
   ]
  },
  {
   "cell_type": "code",
   "execution_count": 12,
   "metadata": {
    "collapsed": true
   },
   "outputs": [],
   "source": [
    "def batch_r_squared(df: pd.DataFrame) -> float:\n",
    "    \"\"\"\n",
    "    Compute coefficient of determination ignoring keys of time series.\n",
    "    \n",
    "    :param df:\n",
    "        DataFrame with columns 'actual_value' and 'prediction'\n",
    "    :return:\n",
    "        R^2 coefficient of determination\n",
    "    \"\"\"\n",
    "    return r2_score(df['actual_value'], df['prediction'])\n",
    "\n",
    "\n",
    "def averaged_r_squared(df: pd.DataFrame, series_keys: List[str]) -> float:\n",
    "    \"\"\"\n",
    "    Compute coefficient of determination for each of time series\n",
    "    and then average results.\n",
    "    \n",
    "    :param df:\n",
    "        DataFrame with columns 'actual_value', 'prediction', and all\n",
    "        columns from `series_keys`\n",
    "    :param series_keys:\n",
    "        identifiers of individual time series\n",
    "    :return:\n",
    "        R^2 coefficient of determination\n",
    "    \"\"\"\n",
    "    return df.groupby(series_keys).apply(batch_r_squared).mean()"
   ]
  },
  {
   "cell_type": "markdown",
   "metadata": {},
   "source": [
    "To see, why this two metric differ, look at the below example."
   ]
  },
  {
   "cell_type": "code",
   "execution_count": 17,
   "metadata": {},
   "outputs": [
    {
     "data": {
      "text/plain": [
       "(0.91061452513966479, -1.5)"
      ]
     },
     "execution_count": 17,
     "metadata": {},
     "output_type": "execute_result"
    }
   ],
   "source": [
    "df = pd.DataFrame(\n",
    "    [[1, 2, 3],\n",
    "     [1, 4, 5],\n",
    "     [2, 10, 9],\n",
    "     [2, 9, 10]],\n",
    "    columns=['key', 'actual_value', 'prediction']\n",
    ")\n",
    "batch_r_squared(df), averaged_r_squared(df, ['key'])"
   ]
  },
  {
   "cell_type": "markdown",
   "metadata": {},
   "source": [
    "The first metric is high, because two series from `df` have different levels and predictions are near the corresponding levels which means that variation across levels is reflected in predictions. The second metric is negative, because variation around individual means is not reflected at all."
   ]
  },
  {
   "cell_type": "markdown",
   "metadata": {},
   "source": [
    "### The Experiment Itself"
   ]
  },
  {
   "cell_type": "code",
   "execution_count": null,
   "metadata": {
    "collapsed": true
   },
   "outputs": [],
   "source": [
    "horizon = 3\n",
    "train_test_frontier = df['date'].max() - datetime.timedelta(days=horizon-1)\n",
    "train_df = df[df['date'] < train_test_frontier]\n",
    "test_df = df[df['date'] >= train_test_frontier]"
   ]
  },
  {
   "cell_type": "code",
   "execution_count": null,
   "metadata": {
    "collapsed": true
   },
   "outputs": [],
   "source": [
    "selector = OnTheFlySelector(\n",
    "    horizon=horizon,\n",
    "    n_evaluational_rounds=10,\n",
    "    verbose=1\n",
    ")"
   ]
  },
  {
   "cell_type": "code",
   "execution_count": null,
   "metadata": {
    "collapsed": true
   },
   "outputs": [],
   "source": [
    "%%time\n",
    "selector = fit_selector_in_parallel(\n",
    "    selector,\n",
    "    dataset,\n",
    "    name_of_target='value',\n",
    "    series_keys=['unit', 'item'],\n",
    "    n_processes=4\n",
    ")"
   ]
  },
  {
   "cell_type": "code",
   "execution_count": null,
   "metadata": {
    "collapsed": true
   },
   "outputs": [],
   "source": [
    "%%time\n",
    "predictions_df = selector.predict(train_df)"
   ]
  },
  {
   "cell_type": "code",
   "execution_count": null,
   "metadata": {
    "collapsed": true
   },
   "outputs": [],
   "source": [
    "evaluation_df = predictions_df.sort_values(by=['unit', 'item', 'date'])\n",
    "evaluation_df['actual_value'] = test_df.sort_values(by=['unit', 'item', 'date'])['value']"
   ]
  },
  {
   "cell_type": "code",
   "execution_count": null,
   "metadata": {
    "collapsed": true
   },
   "outputs": [],
   "source": [
    "batch_r_squared(evaluation_df)"
   ]
  },
  {
   "cell_type": "code",
   "execution_count": null,
   "metadata": {
    "collapsed": true
   },
   "outputs": [],
   "source": [
    "averaged_r_squared(evaluation_df, ['unit', 'item'])"
   ]
  },
  {
   "cell_type": "markdown",
   "metadata": {},
   "source": [
    "# Conclusion"
   ]
  },
  {
   "cell_type": "markdown",
   "metadata": {},
   "source": [
    "If you need more examples of how to use `OnTheFlySelector` class, please look at `tests/on_the_fly_selector_tests.py` file."
   ]
  }
 ],
 "metadata": {
  "kernelspec": {
   "display_name": "forecastonishing_env",
   "language": "python",
   "name": "forecastonishing_env"
  },
  "language_info": {
   "codemirror_mode": {
    "name": "ipython",
    "version": 3
   },
   "file_extension": ".py",
   "mimetype": "text/x-python",
   "name": "python",
   "nbconvert_exporter": "python",
   "pygments_lexer": "ipython3",
   "version": "3.6.2"
  }
 },
 "nbformat": 4,
 "nbformat_minor": 2
}
